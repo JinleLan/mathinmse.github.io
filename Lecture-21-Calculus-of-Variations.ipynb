{
 "cells": [
  {
   "cell_type": "markdown",
   "metadata": {
    "slideshow": {
     "slide_type": "slide"
    }
   },
   "source": [
    "# Lecture 21:  The Calculus of Variations"
   ]
  },
  {
   "cell_type": "markdown",
   "metadata": {},
   "source": [
    "## What to Learn?\n",
    "\n",
    "* The concept of a \"function of functions\" and the definition of a functional\n",
    "* The concept of finding a function that makes the functional an extremum\n",
    "* How to practically compute the functional derivative for simple problems\n",
    "* The concept of a conserved and non-conserved order parameter\n",
    "* The definition of the non-classical chemical potential in a heterogeneous system\n",
    "* How to use the functional derivative to solve for the order parameter profile through an interface\n",
    "\n",
    "## What to do?\n",
    "\n",
    "* Recall the arc length formula\n",
    "* Write down a functional for all arc lengths between two points\n",
    "* Find the shortest path length between two points (minimize the functional)\n",
    "* Using the above process, find the shape of the minimum soapfilm between two rings\n",
    "* Using the above process, set up the differential equation for a heterogeneous chemical system"
   ]
  },
  {
   "cell_type": "markdown",
   "metadata": {
    "slideshow": {
     "slide_type": "subslide"
    }
   },
   "source": [
    "$$\n",
    "F(y_x,y,x)\n",
    "$$\n",
    "\n",
    "A functional is a function of functions.  It is necessary to treat $x$, $y$, and $y_x$ as independent (as though they are held constant during partial differentiation. "
   ]
  },
  {
   "cell_type": "markdown",
   "metadata": {
    "slideshow": {
     "slide_type": "skip"
    }
   },
   "source": [
    "### On Your Own\n",
    "----\n",
    "\n",
    "An (Imperfect but Colorful) Analogy\n",
    "\n",
    "Using the calculus of variations is like this: you want to travel to Phoenix, AZ but you don't yet know the cheapest and fastest way to get there.  So - you imagine a nearly exhaustive list of ways to travel there (including things like walking, giant trebuchets, teleportation, etc.) and work out the costs and time required to each mode of transportation.  Once you evaluate all the modes (consider each mode as a different function of cost and time) - you pick the mode (function) that is optimal for cost and time.\n",
    "\n",
    "In a picture, imagine all the functions that connect the two points \"A\" and \"B\".  We are searching for the function that minimizes the path between \"A\" and \"B\" subject to whatever constraints we place on the path.  The calculus of variations is a formal mathematical strategy for FINDING that function from all possible functions.\n",
    "\n",
    "![](http://ridcully.mat.rpi.edu/4960/index.php?n=Main.Lectures?action=download&upname=trajectory.png)\n",
    "\n",
    "If calculus describes how numbers behave when mapped through functions, then the calculus of variations describe how functions behave when mapped through functions-of-functions."
   ]
  },
  {
   "cell_type": "markdown",
   "metadata": {
    "slideshow": {
     "slide_type": "fragment"
    }
   },
   "source": [
    "Using the mean value theorem you can derive a formula for arc-length that reads:\n",
    "\n",
    "$$\n",
    "L(x,y,y_x) = \\int_a^b \\sqrt{1+ \\left( \\frac{dy}{dx} \\right)^2} dx\n",
    "$$"
   ]
  },
  {
   "cell_type": "markdown",
   "metadata": {
    "slideshow": {
     "slide_type": "fragment"
    }
   },
   "source": [
    "You can integrate this expression between two points $a$ and $b$ on a function $y(x)$ to get the length of the line between $a$ and $b$.  In the CoV we call $F$ a functional.  A functional is a function of functions."
   ]
  },
  {
   "cell_type": "markdown",
   "metadata": {
    "slideshow": {
     "slide_type": "slide"
    }
   },
   "source": [
    "The utility of the CoV is to produce a differential equation that is subsequently solved to produce a function that makes $F$ an extreme value.  In this case we are searching for the function $y(x)$ that minimizes $F$ betwen two points.  The CoV tells us that the following equation must be true for $y(x)$ to make $F$ an extreme value:"
   ]
  },
  {
   "cell_type": "markdown",
   "metadata": {
    "slideshow": {
     "slide_type": "subslide"
    }
   },
   "source": [
    "$$\n",
    "\\frac{\\delta F}{\\delta y} = \\frac{\\partial F}{\\partial y} - \\frac{d}{dx} \\left( \\frac{\\partial F}{\\partial y_x} \\right)= 0\n",
    "$$"
   ]
  },
  {
   "cell_type": "markdown",
   "metadata": {
    "slideshow": {
     "slide_type": "fragment"
    }
   },
   "source": [
    "This expression (for one dependent and one independent variable) is the core of the CoV.  IT is not the only result that can be developed, but for us this is the important one.  We can start by writing the above equation \"by hand\".  "
   ]
  },
  {
   "cell_type": "markdown",
   "metadata": {
    "slideshow": {
     "slide_type": "slide"
    }
   },
   "source": [
    "We'll start with the usual imports:"
   ]
  },
  {
   "cell_type": "code",
   "execution_count": null,
   "metadata": {
    "slideshow": {
     "slide_type": "fragment"
    }
   },
   "outputs": [],
   "source": [
    "%matplotlib notebook\n",
    "import sympy as sp\n",
    "sp.init_printing()\n",
    "\n",
    "f = sp.symbols('f', cls=sp.Function)\n",
    "x, y = sp.symbols('x, y', real=True) "
   ]
  },
  {
   "cell_type": "markdown",
   "metadata": {
    "slideshow": {
     "slide_type": "slide"
    }
   },
   "source": [
    "We define our functional.  Note that the functional is only a function of the _derivative_ of $y$ rather than $y$ alone."
   ]
  },
  {
   "cell_type": "code",
   "execution_count": null,
   "metadata": {
    "slideshow": {
     "slide_type": "fragment"
    }
   },
   "outputs": [],
   "source": [
    "f = sp.sqrt(1+(y(x).diff(x))**2)\n",
    "f"
   ]
  },
  {
   "cell_type": "markdown",
   "metadata": {
    "slideshow": {
     "slide_type": "slide"
    }
   },
   "source": [
    "You may be tempted to do this:"
   ]
  },
  {
   "cell_type": "code",
   "execution_count": null,
   "metadata": {
    "scrolled": true,
    "slideshow": {
     "slide_type": "fragment"
    }
   },
   "outputs": [],
   "source": [
    "f.diff(y)-(f.diff(y(x).diff(x))).diff(x)"
   ]
  },
  {
   "cell_type": "markdown",
   "metadata": {
    "slideshow": {
     "slide_type": "slide"
    }
   },
   "source": [
    "You wouldn't be wrong to do the above, however things can be made a bit easier.  Let us look at each term in the ELE (Euler-Lagrange Equations):"
   ]
  },
  {
   "cell_type": "code",
   "execution_count": null,
   "metadata": {
    "slideshow": {
     "slide_type": "fragment"
    }
   },
   "outputs": [],
   "source": [
    "firstTerm = f.diff(y(x))\n",
    "firstTerm"
   ]
  },
  {
   "cell_type": "code",
   "execution_count": null,
   "metadata": {
    "scrolled": true,
    "slideshow": {
     "slide_type": "fragment"
    }
   },
   "outputs": [],
   "source": [
    "secondTerm = f.diff(y(x).diff(x))\n",
    "secondTerm"
   ]
  },
  {
   "cell_type": "markdown",
   "metadata": {
    "slideshow": {
     "slide_type": "slide"
    }
   },
   "source": [
    "So - since the first term is zero we can use the fundamental theorem of the calculus to perform the first integral.  We add a constant and solve for the derivative."
   ]
  },
  {
   "cell_type": "code",
   "execution_count": null,
   "metadata": {
    "slideshow": {
     "slide_type": "fragment"
    }
   },
   "outputs": [],
   "source": [
    "sp.var('C1')\n",
    "integratedFunctional = sp.Eq(secondTerm,C1)\n",
    "integratedFunctional"
   ]
  },
  {
   "cell_type": "code",
   "execution_count": null,
   "metadata": {
    "slideshow": {
     "slide_type": "slide"
    }
   },
   "outputs": [],
   "source": [
    "firstSolution = sp.solve(integratedFunctional, y(x).diff(x))\n",
    "firstSolution"
   ]
  },
  {
   "cell_type": "markdown",
   "metadata": {
    "slideshow": {
     "slide_type": "slide"
    }
   },
   "source": [
    "This clearly indicates that:\n",
    "\n",
    "$$\n",
    "\\frac{dy}{dx} = C\n",
    "$$\n",
    "\n",
    "and from this point it should be clear that the function $y(x)$ and makes $F$ an extreme is:\n",
    "\n",
    "$$\n",
    "y = mx + b\n",
    "$$"
   ]
  },
  {
   "cell_type": "markdown",
   "metadata": {
    "slideshow": {
     "slide_type": "slide"
    }
   },
   "source": [
    "If you would like to have `SymPy` finish the calculation, you can write:"
   ]
  },
  {
   "cell_type": "code",
   "execution_count": null,
   "metadata": {
    "slideshow": {
     "slide_type": "fragment"
    }
   },
   "outputs": [],
   "source": [
    "functionalExtremizer = sp.dsolve(sp.Eq(y(x).diff(x),firstSolution[0]), y(x))\n",
    "functionalExtremizer"
   ]
  },
  {
   "cell_type": "markdown",
   "metadata": {
    "slideshow": {
     "slide_type": "fragment"
    }
   },
   "source": [
    "And that is a linear function.  To the extent that this is a proof - you've proven that a straight line is the shortest distance between two points."
   ]
  },
  {
   "cell_type": "markdown",
   "metadata": {
    "slideshow": {
     "slide_type": "slide"
    }
   },
   "source": [
    "#### Using SymPy's Functions"
   ]
  },
  {
   "cell_type": "markdown",
   "metadata": {
    "slideshow": {
     "slide_type": "fragment"
    }
   },
   "source": [
    "`SymPy` has an `euler_equation` function that we can try to use, too:"
   ]
  },
  {
   "cell_type": "code",
   "execution_count": null,
   "metadata": {
    "slideshow": {
     "slide_type": "fragment"
    }
   },
   "outputs": [],
   "source": [
    "L = sp.sqrt(1+(y(x).diff(x))**2)\n",
    "differentialEquationFromELFunction = sp.euler_equations(L, y(x), x)\n",
    "differentialEquationFromELFunction"
   ]
  },
  {
   "cell_type": "markdown",
   "metadata": {
    "slideshow": {
     "slide_type": "fragment"
    }
   },
   "source": [
    "A bit messy, but correct nonetheless."
   ]
  },
  {
   "cell_type": "markdown",
   "metadata": {
    "slideshow": {
     "slide_type": "slide"
    }
   },
   "source": [
    "#### DIY:  Find the Euler-Lagrange Equation (ELE)\n",
    "----\n",
    "\n",
    "Find the ELE for the functional, and if you can - solve for $y(x)$:\n",
    "\n",
    "$$\n",
    "v(y(x)) = \\int_0^{\\pi/2} (y_x^2 - y^2)dx\n",
    "$$\n",
    "\n",
    "The endpoint conditions are $y(0)=0$ and $y(\\pi/2)=1$.  For reference, the general solution is:\n",
    "\n",
    "$$\n",
    "y(x)=C_1 \\sin(x) + C_2 \\cos(x)\n",
    "$$\n",
    "\n",
    "Don't forget to check the end points of the domain to find the constants."
   ]
  },
  {
   "cell_type": "markdown",
   "metadata": {
    "slideshow": {
     "slide_type": "slide"
    }
   },
   "source": [
    "#### The Problem of a Minimum Soapfilm\n",
    "----\n",
    "\n",
    "A classic problem in wetting and capillary science is that of the minimum soapfilm between two rings.  The soap film adopts a shape that minimizes its area.\n",
    "\n",
    "The area of a soap film (found by rotating a curve through $2\\pi$ around one axis is given by:\n",
    "\n",
    "$$\n",
    "A = L(x,y,y_x) = \\int_{x_1}^{x_2} 2 \\pi y (1+y_x^2)^{1/2} dx\n",
    "$$\n",
    "\n",
    "Note there is no explicit x dependence."
   ]
  },
  {
   "cell_type": "code",
   "execution_count": null,
   "metadata": {
    "slideshow": {
     "slide_type": "slide"
    }
   },
   "outputs": [],
   "source": [
    "Lsoapfilm = y(x)*sp.sqrt(1+(y(x).diff(x))**2)\n",
    "(sp.euler_equations(Lsoapfilm,y(x),x)[0].lhs).simplify()"
   ]
  },
  {
   "cell_type": "markdown",
   "metadata": {
    "slideshow": {
     "slide_type": "fragment"
    }
   },
   "source": [
    "Attacking the problem this way leads to a second order ODE that we need to integrate.  Although this could be done - the lack of an explicit $x$ dependence permits using an identity that makes the problem a bit easier."
   ]
  },
  {
   "cell_type": "markdown",
   "metadata": {
    "slideshow": {
     "slide_type": "slide"
    }
   },
   "source": [
    "An equivalent statement of the ELE is:\n",
    "\n",
    "$$\n",
    "\\frac{d}{dx} \\left(F - y_x \\frac{\\partial F}{\\partial y_x} \\right) = \\frac{\\partial F}{\\partial x}\n",
    "$$"
   ]
  },
  {
   "cell_type": "markdown",
   "metadata": {
    "slideshow": {
     "slide_type": "fragment"
    }
   },
   "source": [
    "If there is no explicit $x$ dependence therefore the RHS of the above equation is zero - the first integral can be had for \"free\". Adding the integration constant we have:\n",
    "\n",
    "$$\n",
    "F - y_x \\frac{\\partial F}{\\partial y_x} = C_2\n",
    "$$"
   ]
  },
  {
   "cell_type": "markdown",
   "metadata": {
    "slideshow": {
     "slide_type": "slide"
    }
   },
   "source": [
    "We can therefore write:"
   ]
  },
  {
   "cell_type": "code",
   "execution_count": null,
   "metadata": {
    "slideshow": {
     "slide_type": "fragment"
    }
   },
   "outputs": [],
   "source": [
    "C2 = sp.symbols('C2', positive=True)\n",
    "beltramiODE = sp.Eq(Lsoapfilm - y(x).diff(x)*Lsoapfilm.diff(y(x).diff(x)),C2)\n",
    "beltramiODE.simplify()"
   ]
  },
  {
   "cell_type": "markdown",
   "metadata": {
    "slideshow": {
     "slide_type": "slide"
    }
   },
   "source": [
    "Now we solve the differential equation using `dsolve`."
   ]
  },
  {
   "cell_type": "code",
   "execution_count": null,
   "metadata": {
    "slideshow": {
     "slide_type": "fragment"
    }
   },
   "outputs": [],
   "source": [
    "sp.dsolve(beltramiODE,y(x)) "
   ]
  },
  {
   "cell_type": "markdown",
   "metadata": {},
   "source": [
    "#### DIY:  Use the general solution and find the constants."
   ]
  },
  {
   "cell_type": "code",
   "execution_count": null,
   "metadata": {
    "collapsed": true,
    "slideshow": {
     "slide_type": "slide"
    }
   },
   "outputs": [],
   "source": [
    "# Find the constants if the curve is required to pass through a pair of particular points."
   ]
  },
  {
   "cell_type": "markdown",
   "metadata": {},
   "source": [
    "#### DIY:  Create a tool to explore the shape of different soapfilms."
   ]
  },
  {
   "cell_type": "code",
   "execution_count": null,
   "metadata": {
    "collapsed": true,
    "slideshow": {
     "slide_type": "slide"
    }
   },
   "outputs": [],
   "source": [
    "# Create an interactive widget to explore the values of the constants."
   ]
  },
  {
   "cell_type": "markdown",
   "metadata": {
    "slideshow": {
     "slide_type": "slide"
    }
   },
   "source": [
    "### Homework\n",
    "----\n",
    "\n",
    "Find the variational derivative of the following functional:\n",
    "\n",
    "$$\n",
    "F = W \\phi^2 (1-\\phi)^2 + \\frac{1}{2} \\epsilon^2 \\left(\\frac{d \\phi}{dx} \\right)^2\n",
    "$$\n",
    "\n",
    "e.g. compute:\n",
    "\n",
    "$$\n",
    "\\frac{\\delta F}{\\delta \\phi}\n",
    "$$\n",
    "\n",
    "The ODE that results will be solved to find the function $\\phi(x)$.  $W$ and $\\epsilon$ are parameters of the functional."
   ]
  },
  {
   "cell_type": "code",
   "execution_count": null,
   "metadata": {},
   "outputs": [],
   "source": []
  }
 ],
 "metadata": {
  "anaconda-cloud": {},
  "celltoolbar": "Slideshow",
  "kernelspec": {
   "display_name": "Python 2",
   "language": "python",
   "name": "python2"
  },
  "language_info": {
   "codemirror_mode": {
    "name": "ipython",
    "version": 2
   },
   "file_extension": ".py",
   "mimetype": "text/x-python",
   "name": "python",
   "nbconvert_exporter": "python",
   "pygments_lexer": "ipython2",
   "version": "2.7.15"
  }
 },
 "nbformat": 4,
 "nbformat_minor": 1
}
