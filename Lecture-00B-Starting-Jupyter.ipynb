{
 "cells": [
  {
   "cell_type": "markdown",
   "metadata": {
    "collapsed": true
   },
   "source": [
    "# Lecture B:  Getting Started with Jupyter"
   ]
  },
  {
   "cell_type": "markdown",
   "metadata": {},
   "source": [
    "It will be helpful to have a few bits of markdown handy for you as you begin writing in the Jupyter Notebook.\n",
    "\n",
    "First and foremost, Jupyter itself has documentation and as part of that documentation there is a beginner guide:  https://jupyter-notebook-beginner-guide.readthedocs.io/en/latest/"
   ]
  },
  {
   "cell_type": "markdown",
   "metadata": {},
   "source": [
    "Explore the menu above.  In particular the `help` menu is very good.  \n",
    "\n",
    "Take the interface tour and look at the hotkeys list.  The help menu links out to the other Python libraries' documentation."
   ]
  },
  {
   "cell_type": "markdown",
   "metadata": {},
   "source": [
    "# Markdown Starter"
   ]
  },
  {
   "cell_type": "markdown",
   "metadata": {},
   "source": [
    "### Paragraphs "
   ]
  },
  {
   "cell_type": "markdown",
   "metadata": {},
   "source": [
    "Type text to make a paragraph.  For example:\n",
    "\n",
    "Lorem ipsum dolor sit amet, consectetur adipiscing elit. Vestibulum interdum eu arcu a porttitor. Aliquam a mauris urna. Nulla id dignissim arcu. Nunc at venenatis ligula. Etiam massa dui, pellentesque ornare sollicitudin et, pulvinar eget massa. Vestibulum at commodo nulla. Vivamus suscipit eget magna ut luctus. Nunc ut iaculis dui. Pellentesque molestie pharetra metus, in ullamcorper urna dignissim quis. Phasellus ac tempus sem.\n",
    "\n",
    "Lorem ipsum dolor sit amet, consectetur adipiscing elit. Vestibulum interdum eu arcu a porttitor. Aliquam a mauris urna. Nulla id dignissim arcu. Nunc at venenatis ligula. Etiam massa dui, pellentesque ornare sollicitudin et, pulvinar eget massa. Vestibulum at commodo nulla. Vivamus suscipit eget magna ut luctus. Nunc ut iaculis dui. Pellentesque molestie pharetra metus, in ullamcorper urna dignissim quis. Phasellus ac tempus sem.\n",
    "\n",
    "A blank line between will start a new paragraph."
   ]
  },
  {
   "cell_type": "markdown",
   "metadata": {},
   "source": [
    "### Line Breaks"
   ]
  },
  {
   "cell_type": "markdown",
   "metadata": {},
   "source": [
    "Type two spaces at the end of a line to break the line:\n",
    "\n",
    "(With two spaces at the end of every line)  \n",
    "The quick brown fox  \n",
    "jumps over the lazy dog  \n",
    "\n",
    "(Without two spaces at the end of every line)\n",
    "The quick brown fox\n",
    "jumps over the lazy dog"
   ]
  },
  {
   "cell_type": "markdown",
   "metadata": {},
   "source": [
    "### Headings\n",
    "\n",
    "Hash symbols and the number of them decide the heading level.\n",
    "\n",
    "`### Headings`"
   ]
  },
  {
   "cell_type": "markdown",
   "metadata": {},
   "source": [
    "### Images\n",
    "\n",
    "Markdown syntax provides for including images.\n",
    "\n",
    "`![Alt Text](./images/3dglasses.gif \"Pointer Hover Title\")`\n",
    "\n",
    "![Alt Text](./images/3dglasses.gif \"Pointer Hover Title\")"
   ]
  },
  {
   "cell_type": "markdown",
   "metadata": {},
   "source": [
    "### Tables"
   ]
  },
  {
   "cell_type": "markdown",
   "metadata": {},
   "source": [
    "`|Header|Header|Header|Header|\n",
    "|------|------|------|------|\n",
    "|Cell  |Cell  |Cell  | Cell |\n",
    "|Cell  |Cell  |Cell  | Cell |\n",
    "|Cell  |Cell  |Cell  | Cell |\n",
    "|Cell  |Cell  |Cell  | Cell |`\n",
    "\n",
    "|Header|Header|Header|Header|\n",
    "|------|------|------|------|\n",
    "|Cell  |Cell  |Cell  | Cell |\n",
    "|Cell  |Cell  |Cell  | Cell |\n",
    "|Cell  |Cell  |Cell  | Cell |\n",
    "|Cell  |Cell  |Cell  | Cell |"
   ]
  },
  {
   "cell_type": "markdown",
   "metadata": {},
   "source": [
    "### Equations"
   ]
  },
  {
   "cell_type": "markdown",
   "metadata": {},
   "source": [
    "This topic is a bit tricky (and deep).  `LaTeX` is interpreted in markdown when delimted with the dollar sign (`$`) symbol.  So - now I'm asking you to learn LaTeX, too!  Yikes.  I'm horrible - but I promise that I'm telling the truth when every student who has learned LaTex (after about 3 weeks) has said that they are so much happier.  I'll give you some basics here for things I do pretty regularly.  Best to just open the cells for editing and see what is going on behind the scenes."
   ]
  },
  {
   "cell_type": "markdown",
   "metadata": {},
   "source": [
    "* Superscript - $x^2$\n",
    "* Subscript - $x_0$\n",
    "* Grouping - $x^{-2}$ (use curly braces)\n",
    "* Fractions - $\\frac{3}{4}$ (also good for derivative symbols)\n",
    "* Partial derivatives - $\\frac{\\partial c}{\\partial t}$\n",
    "* Scientific notation - $1 \\times 10^{-5}$\n",
    "* Functions - $\\sin{3x}$, $\\cos{5x}$, $\\tan{7x}$, $\\sqrt{56}$\n",
    "\n",
    "The cheat sheet has a lot more options.  Not all symbols are implemented, but all the ones you need _should_ be."
   ]
  },
  {
   "cell_type": "markdown",
   "metadata": {},
   "source": [
    "### Bulleted List\n",
    "\n",
    "<pre>* bullet item 1\n",
    "* bullet item 2</pre>\n",
    "\n",
    "* bullet item 1\n",
    "* bullet item 2"
   ]
  },
  {
   "cell_type": "markdown",
   "metadata": {},
   "source": [
    "### Python Code"
   ]
  },
  {
   "cell_type": "markdown",
   "metadata": {},
   "source": [
    "Type your code.  Type `<SHIFT>+<ENTER>` to execute."
   ]
  },
  {
   "cell_type": "code",
   "execution_count": 1,
   "metadata": {},
   "outputs": [
    {
     "data": {
      "text/plain": [
       "4"
      ]
     },
     "execution_count": 1,
     "metadata": {},
     "output_type": "execute_result"
    }
   ],
   "source": [
    "2+2"
   ]
  }
 ],
 "metadata": {
  "kernelspec": {
   "display_name": "Python 3",
   "language": "python",
   "name": "python3"
  },
  "language_info": {
   "codemirror_mode": {
    "name": "ipython",
    "version": 3
   },
   "file_extension": ".py",
   "mimetype": "text/x-python",
   "name": "python",
   "nbconvert_exporter": "python",
   "pygments_lexer": "ipython3",
   "version": "3.7.7"
  },
  "widgets": {
   "state": {},
   "version": "1.1.2"
  }
 },
 "nbformat": 4,
 "nbformat_minor": 1
}
